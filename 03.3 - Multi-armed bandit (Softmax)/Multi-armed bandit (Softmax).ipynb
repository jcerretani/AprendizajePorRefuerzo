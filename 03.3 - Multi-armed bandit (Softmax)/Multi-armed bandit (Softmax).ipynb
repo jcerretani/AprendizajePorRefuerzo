{
 "cells": [
  {
   "cell_type": "markdown",
   "id": "capital-salvation",
   "metadata": {},
   "source": [
    "***\n",
    "# Multi-armed bandit (Softmax)\n",
    "***"
   ]
  },
  {
   "cell_type": "markdown",
   "id": "according-straight",
   "metadata": {},
   "source": [
    "***\n",
    "### Librerias"
   ]
  },
  {
   "cell_type": "code",
   "execution_count": null,
   "id": "greater-letter",
   "metadata": {},
   "outputs": [],
   "source": [
    "import numpy as np\n",
    "from tqdm import tqdm\n",
    "from scipy.special import softmax\n",
    "import matplotlib.pyplot as plt"
   ]
  },
  {
   "cell_type": "markdown",
   "id": "about-singapore",
   "metadata": {},
   "source": [
    "***\n",
    "### Parámetros"
   ]
  },
  {
   "cell_type": "code",
   "execution_count": null,
   "id": "suitable-wages",
   "metadata": {},
   "outputs": [],
   "source": [
    "# Probabilidades de ganar de cada tragamonedas (desconocida a priori).\n",
    "probabilidades = [0.25, 0.35, 0.55, 0.60]\n",
    "\n",
    "# Pasos de entrenamiento.\n",
    "epocas = 10000\n",
    "\n",
    "# Tau.\n",
    "t = 0.3"
   ]
  },
  {
   "cell_type": "markdown",
   "id": "divine-oakland",
   "metadata": {},
   "source": [
    "***\n",
    "### Entrenamiento"
   ]
  },
  {
   "cell_type": "code",
   "execution_count": null,
   "id": "martial-booth",
   "metadata": {},
   "outputs": [],
   "source": [
    "# Se crea una lista para contar cuantas veces se tomo cada decision.\n",
    "k = np.zeros(len(probabilidades))\n",
    "\n",
    "# Iniziamos el vector de probabilidades estimadas.\n",
    "Q = 0.5*np.ones(len(probabilidades))"
   ]
  },
  {
   "cell_type": "code",
   "execution_count": null,
   "id": "differential-semiconductor",
   "metadata": {},
   "outputs": [],
   "source": [
    "R = []\n",
    "for i in tqdm(range(epocas)):\n",
    "    # Elegimos una acción con la probabilidad dada por softmax.\n",
    "    action = np.random.choice(len(Q),p=softmax(Q/t))\n",
    "\n",
    "    # Devuelve una recompenza de 1 si ganamos y de 0 si no.\n",
    "    reward = 1*(np.random.rand()<=probabilidades[action])\n",
    "    R.append(reward)\n",
    "\n",
    "    # Actualizamos las probabilidades estimadas segun la ecuación vista.\n",
    "    Q[action] = Q[action] + 1.0/(1.0+k[action]) * (reward-Q[action])\n",
    "    k[action] += 1"
   ]
  },
  {
   "cell_type": "code",
   "execution_count": null,
   "id": "second-midwest",
   "metadata": {},
   "outputs": [],
   "source": [
    "plt.figure(figsize=(10,6))\n",
    "plt.plot(np.cumsum(R)/(np.array(range(len(R)))+1), lw=3)\n",
    "for i in range(len(probabilidades)):\n",
    "    plt.plot([0,len(R)], [probabilidades[i], probabilidades[i]], \n",
    "             ':', lw=3, label='prob='+str(probabilidades[i]))\n",
    "plt.grid()\n",
    "plt.xlabel('epocas')\n",
    "plt.ylabel('probabilidades')\n",
    "legend = plt.legend()"
   ]
  },
  {
   "cell_type": "markdown",
   "id": "juvenile-juvenile",
   "metadata": {},
   "source": [
    "***\n",
    "***"
   ]
  },
  {
   "cell_type": "code",
   "execution_count": null,
   "id": "basic-child",
   "metadata": {},
   "outputs": [],
   "source": []
  }
 ],
 "metadata": {
  "kernelspec": {
   "display_name": "Python 3 (ipykernel)",
   "language": "python",
   "name": "python3"
  },
  "language_info": {
   "codemirror_mode": {
    "name": "ipython",
    "version": 3
   },
   "file_extension": ".py",
   "mimetype": "text/x-python",
   "name": "python",
   "nbconvert_exporter": "python",
   "pygments_lexer": "ipython3",
   "version": "3.9.13"
  }
 },
 "nbformat": 4,
 "nbformat_minor": 5
}
