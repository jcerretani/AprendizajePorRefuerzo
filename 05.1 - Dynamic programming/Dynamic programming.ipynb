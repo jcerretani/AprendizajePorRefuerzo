{
 "cells": [
  {
   "cell_type": "markdown",
   "id": "1d907be0",
   "metadata": {},
   "source": [
    "***\n",
    "### Parameters"
   ]
  },
  {
   "cell_type": "code",
   "execution_count": null,
   "id": "ddee71be",
   "metadata": {},
   "outputs": [],
   "source": [
    "SIZE = 30\n",
    "GAMMA = 0.9"
   ]
  },
  {
   "cell_type": "markdown",
   "id": "e7abffa5",
   "metadata": {},
   "source": [
    "***\n",
    "### Libraries"
   ]
  },
  {
   "cell_type": "code",
   "execution_count": null,
   "id": "a2ca168f",
   "metadata": {},
   "outputs": [],
   "source": [
    "import numpy as np\n",
    "import seaborn as sns\n",
    "import matplotlib.pyplot as plt"
   ]
  },
  {
   "cell_type": "markdown",
   "id": "41ff5547",
   "metadata": {},
   "source": [
    "***\n",
    "### Functions"
   ]
  },
  {
   "cell_type": "code",
   "execution_count": null,
   "id": "2267a7c4",
   "metadata": {},
   "outputs": [],
   "source": [
    "# Todos los estados tienen una recompensa de -1 excepto los estados terminales\n",
    "# que tienen una recompensa de 0.\n",
    "def transition(s,a,ss, SIZE=SIZE):\n",
    "    # izquierda, derecha, arriba, abajo.\n",
    "    actions = {0:s-1 if (s%SIZE)!= 0 else s,\n",
    "               1:s+1 if ((s+1)%SIZE)!= 0 else s,\n",
    "               2:s+SIZE if (s+SIZE<SIZE**2) else s,\n",
    "               3:s-SIZE if (s-SIZE>-1) else s}\n",
    "\n",
    "    END = [0,SIZE**2-1]\n",
    "    P = 1*(actions[a]==ss)\n",
    "    R = -1*(ss not in END)\n",
    "    return P,R"
   ]
  },
  {
   "cell_type": "markdown",
   "id": "973ba953",
   "metadata": {},
   "source": [
    "***\n",
    "### Run"
   ]
  },
  {
   "cell_type": "code",
   "execution_count": null,
   "id": "14eb53f4",
   "metadata": {},
   "outputs": [],
   "source": [
    "V = {s:0 for s in range(SIZE**2)}\n",
    "evolution = [np.array(list(V.values())).reshape(SIZE,SIZE).round(2)]\n",
    "while True:\n",
    "    delta = 0\n",
    "    for s in range(1,SIZE**2-1):\n",
    "        v = V[s]\n",
    "        V_actions = []\n",
    "        for a in range(4):\n",
    "            va = 0\n",
    "            for ss in range(SIZE**2):\n",
    "                P, R = transition(s,a,ss)\n",
    "                va += P*(R+GAMMA*V[ss])\n",
    "            V_actions.append(va)\n",
    "        V[s] = max(V_actions)\n",
    "        delta = max(delta, np.abs(V[s]-v))\n",
    "        \n",
    "    evolution.append(np.array(list(V.values())).reshape(SIZE,SIZE).round(2))\n",
    "    if delta < 1e-5:\n",
    "        break"
   ]
  },
  {
   "cell_type": "code",
   "execution_count": null,
   "id": "37b3612e",
   "metadata": {},
   "outputs": [],
   "source": [
    "# Matriz de valores de estados V: oscuro valores bajos, claro valores altos. \n",
    "plt.figure(figsize=(5,5))\n",
    "sns.heatmap(evolution[-1], cbar=False)\n",
    "plt.axis('off');"
   ]
  },
  {
   "cell_type": "markdown",
   "id": "20ca646f",
   "metadata": {},
   "source": [
    "***\n",
    "***"
   ]
  },
  {
   "cell_type": "code",
   "execution_count": null,
   "id": "d22f2138",
   "metadata": {},
   "outputs": [],
   "source": []
  }
 ],
 "metadata": {
  "kernelspec": {
   "display_name": "Python 3 (ipykernel)",
   "language": "python",
   "name": "python3"
  },
  "language_info": {
   "codemirror_mode": {
    "name": "ipython",
    "version": 3
   },
   "file_extension": ".py",
   "mimetype": "text/x-python",
   "name": "python",
   "nbconvert_exporter": "python",
   "pygments_lexer": "ipython3",
   "version": "3.9.13"
  }
 },
 "nbformat": 4,
 "nbformat_minor": 5
}
