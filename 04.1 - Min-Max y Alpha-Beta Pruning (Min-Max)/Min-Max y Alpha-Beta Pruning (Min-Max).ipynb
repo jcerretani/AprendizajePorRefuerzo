{
 "cells": [
  {
   "cell_type": "markdown",
   "id": "naked-insulin",
   "metadata": {},
   "source": [
    "***\n",
    "# Min-Max y Alpha-Beta Pruning (Min-Max)\n",
    "***"
   ]
  },
  {
   "cell_type": "markdown",
   "id": "rural-ballot",
   "metadata": {},
   "source": [
    "***\n",
    "### Librerias"
   ]
  },
  {
   "cell_type": "code",
   "execution_count": 1,
   "id": "stupid-skating",
   "metadata": {},
   "outputs": [],
   "source": [
    "import numpy as np\n",
    "import boardgame2\n",
    "import gym\n",
    "import time"
   ]
  },
  {
   "cell_type": "markdown",
   "id": "japanese-invention",
   "metadata": {},
   "source": [
    "***\n",
    "### Funciones de Min-Max"
   ]
  },
  {
   "cell_type": "code",
   "execution_count": 2,
   "id": "detailed-roads",
   "metadata": {},
   "outputs": [],
   "source": [
    "def MinMax(state, depth, maximizing_player):\n",
    "    done = env.get_winner(state)!=None\n",
    "    if ((done) | (depth==0)):\n",
    "        return env.get_winner(state)\n",
    "\n",
    "    valid_actions = [(i,j) for i in range(state[0].shape[0]) for j in range(state[0].shape[1]) \n",
    "                     if env.get_valid(state)[i,j]==1] \n",
    "    next_states = [env.get_next_state(state, action) for action in valid_actions]\n",
    "    \n",
    "    if maximizing_player:\n",
    "        maxEva = float('-inf')\n",
    "        for child_state in next_states:\n",
    "            eva = MinMax(child_state, depth-1, False) \n",
    "            maxEva = max(maxEva, eva)\n",
    "        return maxEva\n",
    "    else:\n",
    "        minEva = float('inf')\n",
    "        for child_state in next_states:\n",
    "            eva = MinMax(child_state, depth-1, True) \n",
    "            minEva = min(minEva, eva)\n",
    "        return minEva   "
   ]
  },
  {
   "cell_type": "code",
   "execution_count": 3,
   "id": "internal-rugby",
   "metadata": {},
   "outputs": [],
   "source": [
    "def select_best_action(state, depth=100):\n",
    "    valid_actions = [(i,j) for i in range(state[0].shape[0]) for j in range(state[0].shape[1]) \n",
    "                     if env.get_valid(state)[i,j]==1]\n",
    "    next_states = [env.get_next_state(state, action) for action in valid_actions]\n",
    "    maximizing_player = state[1]!=1\n",
    "    min_max_values = [MinMax(new_state, depth, maximizing_player) for new_state in next_states]\n",
    "    best_action = valid_actions[np.argmin(min_max_values) if maximizing_player else np.argmax(min_max_values)]\n",
    "    return best_action"
   ]
  },
  {
   "cell_type": "markdown",
   "id": "labeled-permission",
   "metadata": {},
   "source": [
    "***\n",
    "### Juego"
   ]
  },
  {
   "cell_type": "code",
   "execution_count": 4,
   "id": "coordinate-orientation",
   "metadata": {},
   "outputs": [
    {
     "name": "stderr",
     "output_type": "stream",
     "text": [
      "C:\\Users\\s41137\\AppData\\Roaming\\Python\\Python39\\site-packages\\gym\\utils\\passive_env_checker.py:31: UserWarning: \u001b[33mWARN: A Box observation space has an unconventional shape (neither an image, nor a 1D vector). We recommend flattening the observation to have only a 1D vector or use a custom policy to properly process the data. Actual observation shape: (3, 3)\u001b[0m\n",
      "  logger.warn(\n",
      "C:\\Users\\s41137\\AppData\\Roaming\\Python\\Python39\\site-packages\\gym\\utils\\passive_env_checker.py:31: UserWarning: \u001b[33mWARN: A Box observation space has an unconventional shape (neither an image, nor a 1D vector). We recommend flattening the observation to have only a 1D vector or use a custom policy to properly process the data. Actual observation shape: ()\u001b[0m\n",
      "  logger.warn(\n"
     ]
    }
   ],
   "source": [
    "env = gym.make('TicTacToe-v0')"
   ]
  },
  {
   "cell_type": "code",
   "execution_count": 5,
   "id": "analyzed-mitchell",
   "metadata": {},
   "outputs": [
    {
     "name": "stderr",
     "output_type": "stream",
     "text": [
      "C:\\Users\\s41137\\AppData\\Roaming\\Python\\Python39\\site-packages\\gym\\spaces\\box.py:227: UserWarning: \u001b[33mWARN: Casting input x to numpy array.\u001b[0m\n",
      "  logger.warn(\"Casting input x to numpy array.\")\n",
      "C:\\Users\\s41137\\AppData\\Roaming\\Python\\Python39\\site-packages\\gym\\utils\\passive_env_checker.py:233: DeprecationWarning: `np.bool8` is a deprecated alias for `np.bool_`.  (Deprecated NumPy 1.24)\n",
      "  if not isinstance(terminated, (bool, np.bool8)):\n"
     ]
    },
    {
     "name": "stdout",
     "output_type": "stream",
     "text": [
      "X   -   -   \n",
      "-   -   -   \n",
      "-   -   -   \n",
      "\n",
      "X   -   -   \n",
      "-   O   -   \n",
      "-   -   -   \n",
      "\n",
      "X   X   -   \n",
      "-   O   -   \n",
      "-   -   -   \n",
      "\n",
      "X   X   O   \n",
      "-   O   -   \n",
      "-   -   -   \n",
      "\n",
      "X   X   O   \n",
      "-   O   -   \n",
      "X   -   -   \n",
      "\n",
      "X   X   O   \n",
      "O   O   -   \n",
      "X   -   -   \n",
      "\n",
      "X   X   O   \n",
      "O   O   X   \n",
      "X   -   -   \n",
      "\n",
      "X   X   O   \n",
      "O   O   X   \n",
      "X   O   -   \n",
      "\n",
      "X   X   O   \n",
      "O   O   X   \n",
      "X   O   X   \n",
      "\n",
      "tiempo total: 447 segundos.\n"
     ]
    }
   ],
   "source": [
    "start = time.time()\n",
    "state = env.reset()[0]\n",
    "while True:\n",
    "    action = select_best_action(state)\n",
    "    state, _, done, _, _  = env.step(action)\n",
    "    print('\\n'.join([''.join(['{:4}'.format('X' if item==1 else ('O' if item==-1 else '-')) \n",
    "                     for item in env.board[i]]) for i in range(len(env.board))])+'\\n')\n",
    "    if done:\n",
    "        break\n",
    "end = time.time()\n",
    "print('tiempo total:', int(round(end - start,0)), 'segundos.')"
   ]
  },
  {
   "cell_type": "markdown",
   "id": "useful-idaho",
   "metadata": {},
   "source": [
    "***\n",
    "***"
   ]
  },
  {
   "cell_type": "code",
   "execution_count": null,
   "id": "80c38bcf",
   "metadata": {},
   "outputs": [],
   "source": []
  }
 ],
 "metadata": {
  "kernelspec": {
   "display_name": "Python 3 (ipykernel)",
   "language": "python",
   "name": "python3"
  },
  "language_info": {
   "codemirror_mode": {
    "name": "ipython",
    "version": 3
   },
   "file_extension": ".py",
   "mimetype": "text/x-python",
   "name": "python",
   "nbconvert_exporter": "python",
   "pygments_lexer": "ipython3",
   "version": "3.9.13"
  }
 },
 "nbformat": 4,
 "nbformat_minor": 5
}
