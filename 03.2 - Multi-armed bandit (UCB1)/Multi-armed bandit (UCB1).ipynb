{
 "cells": [
  {
   "cell_type": "markdown",
   "id": "mediterranean-council",
   "metadata": {},
   "source": [
    "***\n",
    "# Multi-armed bandit (UCB1)\n",
    "***"
   ]
  },
  {
   "cell_type": "markdown",
   "id": "small-olive",
   "metadata": {},
   "source": [
    "***\n",
    "### Librerias"
   ]
  },
  {
   "cell_type": "code",
   "execution_count": null,
   "id": "minor-coral",
   "metadata": {},
   "outputs": [],
   "source": [
    "import numpy as np\n",
    "from tqdm import tqdm\n",
    "import matplotlib.pyplot as plt"
   ]
  },
  {
   "cell_type": "markdown",
   "id": "hindu-train",
   "metadata": {},
   "source": [
    "***\n",
    "### Parámetros"
   ]
  },
  {
   "cell_type": "code",
   "execution_count": null,
   "id": "critical-mailing",
   "metadata": {},
   "outputs": [],
   "source": [
    "# Probabilidades de ganar de cada tragamonedas (desconocida a priori).\n",
    "probabilidades = [0.25, 0.35, 0.55, 0.60]\n",
    "\n",
    "# Pasos de entrenamiento.\n",
    "epocas = 10000"
   ]
  },
  {
   "cell_type": "markdown",
   "id": "delayed-transaction",
   "metadata": {},
   "source": [
    "***\n",
    "### Entrenamiento"
   ]
  },
  {
   "cell_type": "code",
   "execution_count": null,
   "id": "valuable-tulsa",
   "metadata": {},
   "outputs": [],
   "source": [
    "# Se crea una lista para contar cuantas veces se tomo cada decision.\n",
    "n_i = {i:1 for i in range(len(probabilidades))}\n",
    "\n",
    "# Inizializamos un diccionario para guardar los historicos de recompanzas obtenidas.\n",
    "mu_i = {i:[0.5] for i in range(len(probabilidades))}\n",
    "\n",
    "# Iniziamos el vector de recompenzas estimadas.\n",
    "Q = np.zeros(len(probabilidades))"
   ]
  },
  {
   "cell_type": "code",
   "execution_count": null,
   "id": "joined-colony",
   "metadata": {},
   "outputs": [],
   "source": [
    "R = []\n",
    "for ni in tqdm(range(epocas)):\n",
    "    # Calculamos la cantidad de iteraciones.\n",
    "    n = sum(n_i.values())\n",
    "    \n",
    "    # Calculamos la recompenza estimada de cada tragamoneda.\n",
    "    Q = [np.mean(mu_i[i]) for i in range(len(probabilidades))]\n",
    "    \n",
    "    # Elegimos la mejor acción segun la ecuacion vista.\n",
    "    action = np.array([Q[i] + np.sqrt(2*np.log(n)/n_i[i]) for i in range(len(probabilidades))]).argmax()\n",
    "    \n",
    "    # Devuelve una recompenza de 1 si ganamos y de 0 si no.\n",
    "    reward = 1*(np.random.rand()<=probabilidades[action])\n",
    "    R.append(reward)\n",
    "    \n",
    "    # Agregamos la recompenza al historico de esa acción.\n",
    "    mu_i[action].append(reward)\n",
    "    \n",
    "    # Sumamos una interacción a esa tragamoneda.\n",
    "    n_i[action] +=1"
   ]
  },
  {
   "cell_type": "code",
   "execution_count": null,
   "id": "radical-london",
   "metadata": {},
   "outputs": [],
   "source": [
    "plt.figure(figsize=(10,6))\n",
    "plt.plot(np.cumsum(R)/(np.array(range(len(R)))+1), lw=3)\n",
    "for i in range(len(probabilidades)):\n",
    "    plt.plot([0,len(R)], [probabilidades[i], probabilidades[i]], \n",
    "             ':', lw=3, label='prob='+str(probabilidades[i]))\n",
    "plt.grid()\n",
    "plt.xlabel('epocas')\n",
    "plt.ylabel('probabilidades')\n",
    "legend = plt.legend()"
   ]
  },
  {
   "cell_type": "markdown",
   "id": "social-disability",
   "metadata": {},
   "source": [
    "***\n",
    "***"
   ]
  },
  {
   "cell_type": "code",
   "execution_count": null,
   "id": "colored-tuesday",
   "metadata": {},
   "outputs": [],
   "source": []
  }
 ],
 "metadata": {
  "kernelspec": {
   "display_name": "Python 3 (ipykernel)",
   "language": "python",
   "name": "python3"
  },
  "language_info": {
   "codemirror_mode": {
    "name": "ipython",
    "version": 3
   },
   "file_extension": ".py",
   "mimetype": "text/x-python",
   "name": "python",
   "nbconvert_exporter": "python",
   "pygments_lexer": "ipython3",
   "version": "3.9.13"
  }
 },
 "nbformat": 4,
 "nbformat_minor": 5
}
