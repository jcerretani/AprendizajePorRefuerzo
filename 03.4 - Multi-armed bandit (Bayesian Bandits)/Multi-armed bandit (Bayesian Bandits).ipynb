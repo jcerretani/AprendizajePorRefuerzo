{
 "cells": [
  {
   "cell_type": "markdown",
   "id": "neural-operations",
   "metadata": {},
   "source": [
    "***\n",
    "# Multi-armed bandit (Bayesian Bandits)\n",
    "***"
   ]
  },
  {
   "cell_type": "markdown",
   "id": "super-ordinary",
   "metadata": {},
   "source": [
    "***\n",
    "### Librerias"
   ]
  },
  {
   "cell_type": "code",
   "execution_count": null,
   "id": "refined-heating",
   "metadata": {},
   "outputs": [],
   "source": [
    "import numpy as np\n",
    "from tqdm import tqdm\n",
    "from scipy.stats import beta\n",
    "import matplotlib.pyplot as plt"
   ]
  },
  {
   "cell_type": "markdown",
   "id": "seven-solution",
   "metadata": {},
   "source": [
    "***\n",
    "### Parámetros"
   ]
  },
  {
   "cell_type": "code",
   "execution_count": null,
   "id": "seasonal-oliver",
   "metadata": {},
   "outputs": [],
   "source": [
    "# Probabilidades de ganar de cada tragamonedas (desconocida a priori).\n",
    "probabilidades = [0.25, 0.35, 0.55, 0.60]\n",
    "\n",
    "# Pasos de entrenamiento.\n",
    "epocas = 10000"
   ]
  },
  {
   "cell_type": "markdown",
   "id": "atlantic-exception",
   "metadata": {},
   "source": [
    "***\n",
    "### Entrenamiento"
   ]
  },
  {
   "cell_type": "code",
   "execution_count": null,
   "id": "combined-nature",
   "metadata": {},
   "outputs": [],
   "source": [
    "# Creamos la lista de alpha y beta para cada acción.\n",
    "alphas = [1 for _ in range(len(probabilidades))]\n",
    "betas = [1 for _ in range(len(probabilidades))]"
   ]
  },
  {
   "cell_type": "code",
   "execution_count": null,
   "id": "disturbed-entry",
   "metadata": {},
   "outputs": [],
   "source": [
    "R = []\n",
    "for ni in tqdm(range(epocas)):\n",
    "    # Tomamos un valor aleatorio de cada distribucion.\n",
    "    rnd_values = [np.random.beta(alphas[i], betas[i]) for i in range(len(probabilidades))]\n",
    "    \n",
    "    # Elegimos la mejor acción.\n",
    "    action = np.argmax(rnd_values)\n",
    "    \n",
    "    # Devuelve una recompenza de 1 si ganamos y de 0 si no.\n",
    "    reward = 1*(np.random.rand()<=probabilidades[action])\n",
    "    R.append(reward)\n",
    "    \n",
    "    # ACtualizamos los valores de alpha y beta a esa acción.\n",
    "    alphas[action] += reward\n",
    "    betas[action] += 1-reward"
   ]
  },
  {
   "cell_type": "code",
   "execution_count": null,
   "id": "unauthorized-offense",
   "metadata": {},
   "outputs": [],
   "source": [
    "plt.figure(figsize=(10,6))\n",
    "plt.plot(np.cumsum(R)/(np.array(range(len(R)))+1), lw=3)\n",
    "for i in range(len(probabilidades)):\n",
    "    plt.plot([0,len(R)], [probabilidades[i], probabilidades[i]], \n",
    "             ':', lw=3, label='prob='+str(probabilidades[i]))\n",
    "plt.grid()\n",
    "plt.xlabel('epocas')\n",
    "plt.ylabel('probabilidades')\n",
    "legend = plt.legend()"
   ]
  },
  {
   "cell_type": "markdown",
   "id": "sophisticated-catalyst",
   "metadata": {},
   "source": [
    "***\n",
    "***"
   ]
  },
  {
   "cell_type": "code",
   "execution_count": null,
   "id": "equal-portal",
   "metadata": {},
   "outputs": [],
   "source": []
  }
 ],
 "metadata": {
  "kernelspec": {
   "display_name": "Python 3 (ipykernel)",
   "language": "python",
   "name": "python3"
  },
  "language_info": {
   "codemirror_mode": {
    "name": "ipython",
    "version": 3
   },
   "file_extension": ".py",
   "mimetype": "text/x-python",
   "name": "python",
   "nbconvert_exporter": "python",
   "pygments_lexer": "ipython3",
   "version": "3.9.13"
  }
 },
 "nbformat": 4,
 "nbformat_minor": 5
}
